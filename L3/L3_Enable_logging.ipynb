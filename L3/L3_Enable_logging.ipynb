{
 "cells": [
  {
   "cell_type": "markdown",
   "id": "cc6b7b9f-a75d-4b78-930f-26d2343ac2c2",
   "metadata": {},
   "source": [
    "# Lesson 3: Enable Logging"
   ]
  },
  {
   "cell_type": "markdown",
   "id": "06fc5839-0b4b-42a3-9aaf-99a97e347955",
   "metadata": {},
   "source": [
    "### Import all needed packages"
   ]
  },
  {
   "cell_type": "code",
   "execution_count": 1,
   "id": "63cf31e4",
   "metadata": {
    "height": 98
   },
   "outputs": [],
   "source": [
    "import boto3\n",
    "import json\n",
    "import os\n",
    "\n",
    "bedrock = boto3.client('bedrock', region_name=\"us-west-2\")"
   ]
  },
  {
   "cell_type": "code",
   "execution_count": 2,
   "id": "e5d9e31b",
   "metadata": {
    "height": 47
   },
   "outputs": [],
   "source": [
    "from helpers.CloudWatchHelper import CloudWatch_Helper\n",
    "cloudwatch = CloudWatch_Helper()"
   ]
  },
  {
   "cell_type": "code",
   "execution_count": 3,
   "id": "87a30e7e",
   "metadata": {
    "height": 30
   },
   "outputs": [],
   "source": [
    "log_group_name = '/my/amazon/bedrock/logs'"
   ]
  },
  {
   "cell_type": "code",
   "execution_count": 4,
   "id": "2461a51c",
   "metadata": {
    "height": 30
   },
   "outputs": [
    {
     "name": "stdout",
     "output_type": "stream",
     "text": [
      "Log group '/my/amazon/bedrock/logs' already exists.\n"
     ]
    }
   ],
   "source": [
    "cloudwatch.create_log_group(log_group_name)"
   ]
  },
  {
   "cell_type": "code",
   "execution_count": 5,
   "id": "0afe5997",
   "metadata": {
    "height": 268
   },
   "outputs": [],
   "source": [
    "loggingConfig = {\n",
    "    'cloudWatchConfig': {\n",
    "        'logGroupName': log_group_name,\n",
    "        'roleArn': os.environ['LOGGINGROLEARN'],\n",
    "        'largeDataDeliveryS3Config': {\n",
    "            'bucketName': os.environ['LOGGINGBUCKETNAME'],\n",
    "            'keyPrefix': 'amazon_bedrock_large_data_delivery',\n",
    "        }\n",
    "    },\n",
    "    's3Config': {\n",
    "        'bucketName': os.environ['LOGGINGBUCKETNAME'],\n",
    "        'keyPrefix': 'amazon_bedrock_logs',\n",
    "    },\n",
    "    'textDataDeliveryEnabled': True,\n",
    "}"
   ]
  },
  {
   "cell_type": "code",
   "execution_count": 6,
   "id": "2ca33ffe",
   "metadata": {
    "height": 30
   },
   "outputs": [
    {
     "data": {
      "text/plain": [
       "{'ResponseMetadata': {'RequestId': '21946593-4d61-4240-9e41-49bd00eac947',\n",
       "  'HTTPStatusCode': 200,\n",
       "  'HTTPHeaders': {'date': 'Sun, 26 Jan 2025 04:39:45 GMT',\n",
       "   'content-type': 'application/json',\n",
       "   'content-length': '2',\n",
       "   'connection': 'keep-alive',\n",
       "   'x-amzn-requestid': '21946593-4d61-4240-9e41-49bd00eac947'},\n",
       "  'RetryAttempts': 0}}"
      ]
     },
     "execution_count": 6,
     "metadata": {},
     "output_type": "execute_result"
    }
   ],
   "source": [
    "bedrock.put_model_invocation_logging_configuration(loggingConfig=loggingConfig)"
   ]
  },
  {
   "cell_type": "code",
   "execution_count": 7,
   "id": "41fdb20d",
   "metadata": {
    "height": 30
   },
   "outputs": [
    {
     "data": {
      "text/plain": [
       "{'ResponseMetadata': {'RequestId': '9ad694c7-e7ff-4755-bd86-4f4504ddf8ab',\n",
       "  'HTTPStatusCode': 200,\n",
       "  'HTTPHeaders': {'date': 'Sun, 26 Jan 2025 04:39:48 GMT',\n",
       "   'content-type': 'application/json',\n",
       "   'content-length': '604',\n",
       "   'connection': 'keep-alive',\n",
       "   'x-amzn-requestid': '9ad694c7-e7ff-4755-bd86-4f4504ddf8ab'},\n",
       "  'RetryAttempts': 0},\n",
       " 'loggingConfig': {'cloudWatchConfig': {'logGroupName': '/my/amazon/bedrock/logs',\n",
       "   'roleArn': 'arn:aws:iam::880695732601:role/c99355a2566044l9039824t1w88069573260-LoggingIAMRole-gukxsW5IGVny',\n",
       "   'largeDataDeliveryS3Config': {'bucketName': 'c99355a2566044l9039824t1w880695732-loggings3bucket-rfai4bnojb7k',\n",
       "    'keyPrefix': 'amazon_bedrock_large_data_delivery'}},\n",
       "  's3Config': {'bucketName': 'c99355a2566044l9039824t1w880695732-loggings3bucket-rfai4bnojb7k',\n",
       "   'keyPrefix': 'amazon_bedrock_logs'},\n",
       "  'textDataDeliveryEnabled': True,\n",
       "  'imageDataDeliveryEnabled': True,\n",
       "  'embeddingDataDeliveryEnabled': True}}"
      ]
     },
     "execution_count": 7,
     "metadata": {},
     "output_type": "execute_result"
    }
   ],
   "source": [
    "bedrock.get_model_invocation_logging_configuration()"
   ]
  },
  {
   "cell_type": "code",
   "execution_count": 8,
   "id": "95ebecb7",
   "metadata": {
    "height": 30
   },
   "outputs": [],
   "source": [
    "bedrock_runtime = boto3.client('bedrock-runtime', region_name=\"us-west-2\")"
   ]
  },
  {
   "cell_type": "code",
   "execution_count": 9,
   "id": "402c6311",
   "metadata": {
    "height": 421
   },
   "outputs": [
    {
     "name": "stdout",
     "output_type": "stream",
     "text": [
      "\n",
      "Foobar is a fictional planet in the Star Wars universe. It is the homeworld of the Twi'lek race and is located in the Outer Rim Territories. Foobar is a lush, tropical planet with a rich history and culture. It is known for its vibrant cities, lush forests, and vast oceans.\n",
      "\n",
      "One of the most famous features of Foobar is its capital city, Ryloth. Ryloth is a sprawling metropolis that is home to millions of Twi'leks. The city is known for its colorful architecture, bustling markets, and lively nightlife. Ryloth is also the home of the Twi'lek Senate, which is the governing body of the planet.\n",
      "\n",
      "Foobar is also home to a number of other important landmarks. The planet is home to the Jedi Temple, which is a training center for young Jedi. The planet is also home to the Gungan City, which is a city built on a network of underwater tunnels. The Gungans are a species of amphibious creatures who are known for their engineering skills.\n",
      "\n",
      "Foobar has a long and complex history. The planet was originally colonized by the Twi'lek race over 1,000 years ago. The planet was a hub of trade and commerce, and it was home to a number of different cultures. However, the planet was eventually conquered by the Galactic Empire.\n",
      "\n",
      "During the Galactic Empire's rule, Foobar was used as a mining colony. The planet was rich in minerals and metals, and the Empire used the planet to supply its military forces. However, the Twi'leks rebelled against the Empire, and they were able to drive them off the planet.\n",
      "\n",
      "After the Galactic Empire was defeated, Foobar was left in ruins. The planet was devastated by the war, and many of its cities and landmarks were destroyed. However, the Twi'leks were able to rebuild their civilization, and Foobar is now a thriving planet.\n",
      "\n",
      "Foobar is a popular destination for tourists. The planet is home to a number of beautiful beaches, and it is also home to a number of ancient ruins. The planet is also home to a number of exotic creatures, including the Twi'lek Jedi Master Yoda.\n",
      "\n",
      "Despite its beauty and history, Foobar is not without its challenges. The planet is located in the Outer Rim Territories, which are known for their dangerous conditions. The planet is also home to a number of criminal organizations, and it is a frequent target for\n"
     ]
    }
   ],
   "source": [
    "prompt = \"Write an article about the fictional planet Foobar.\"\n",
    "\n",
    "kwargs = {\n",
    "    \"modelId\": \"amazon.titan-text-express-v1\",\n",
    "    \"contentType\": \"application/json\",\n",
    "    \"accept\": \"*/*\",\n",
    "    \"body\": json.dumps(\n",
    "        {\n",
    "            \"inputText\": prompt,\n",
    "            \"textGenerationConfig\": {\n",
    "                \"maxTokenCount\": 512,\n",
    "                \"temperature\": 0.7,\n",
    "                \"topP\": 0.9\n",
    "            }\n",
    "        }\n",
    "    )\n",
    "}\n",
    "\n",
    "response = bedrock_runtime.invoke_model(**kwargs)\n",
    "response_body = json.loads(response.get('body').read())\n",
    "\n",
    "generation = response_body['results'][0]['outputText']\n",
    "\n",
    "print(generation)"
   ]
  },
  {
   "cell_type": "code",
   "execution_count": 10,
   "id": "68a7bab7",
   "metadata": {
    "height": 30
   },
   "outputs": [
    {
     "name": "stdout",
     "output_type": "stream",
     "text": [
      "Permissions are correctly set for Amazon Bedrock logs.\n",
      "-------------------------\n",
      "\n",
      "{\n",
      "    \"schemaType\": \"ModelInvocationLog\",\n",
      "    \"schemaVersion\": \"1.0\",\n",
      "    \"timestamp\": \"2025-01-26T04:41:06Z\",\n",
      "    \"accountId\": \"880695732601\",\n",
      "    \"identity\": {\n",
      "        \"arn\": \"arn:aws:sts::880695732601:assumed-role/voclabs/user3785430=eyJhbGciOiJIUzI1NiIsInR5cCI6IkpXVCJ9.eyJpc3MiOiJhcHA\"\n",
      "    },\n",
      "    \"region\": \"us-west-2\",\n",
      "    \"requestId\": \"673753d5-011f-4a32-8edd-c98ab9a45491\",\n",
      "    \"operation\": \"InvokeModel\",\n",
      "    \"modelId\": \"amazon.titan-text-express-v1\",\n",
      "    \"input\": {\n",
      "        \"inputContentType\": \"application/json\",\n",
      "        \"inputBodyJson\": {\n",
      "            \"inputText\": \"Write an article about the fictional planet Foobar.\",\n",
      "            \"textGenerationConfig\": {\n",
      "                \"maxTokenCount\": 512,\n",
      "                \"temperature\": 0.7,\n",
      "                \"topP\": 0.9\n",
      "            }\n",
      "        },\n",
      "        \"inputTokenCount\": 10\n",
      "    },\n",
      "    \"output\": {\n",
      "        \"outputContentType\": \"application/json\",\n",
      "        \"outputBodyJson\": {\n",
      "            \"inputTextTokenCount\": 10,\n",
      "            \"results\": [\n",
      "                {\n",
      "                    \"tokenCount\": 512,\n",
      "                    \"outputText\": \"\\nFoobar is a fictional planet in the Star Wars universe. It is the homeworld of the Twi'lek race and is located in the Outer Rim Territories. Foobar is a lush, tropical planet with a rich history and culture. It is known for its vibrant cities, lush forests, and vast oceans.\\n\\nOne of the most famous features of Foobar is its capital city, Ryloth. Ryloth is a sprawling metropolis that is home to millions of Twi'leks. The city is known for its colorful architecture, bustling markets, and lively nightlife. Ryloth is also the home of the Twi'lek Senate, which is the governing body of the planet.\\n\\nFoobar is also home to a number of other important landmarks. The planet is home to the Jedi Temple, which is a training center for young Jedi. The planet is also home to the Gungan City, which is a city built on a network of underwater tunnels. The Gungans are a species of amphibious creatures who are known for their engineering skills.\\n\\nFoobar has a long and complex history. The planet was originally colonized by the Twi'lek race over 1,000 years ago. The planet was a hub of trade and commerce, and it was home to a number of different cultures. However, the planet was eventually conquered by the Galactic Empire.\\n\\nDuring the Galactic Empire's rule, Foobar was used as a mining colony. The planet was rich in minerals and metals, and the Empire used the planet to supply its military forces. However, the Twi'leks rebelled against the Empire, and they were able to drive them off the planet.\\n\\nAfter the Galactic Empire was defeated, Foobar was left in ruins. The planet was devastated by the war, and many of its cities and landmarks were destroyed. However, the Twi'leks were able to rebuild their civilization, and Foobar is now a thriving planet.\\n\\nFoobar is a popular destination for tourists. The planet is home to a number of beautiful beaches, and it is also home to a number of ancient ruins. The planet is also home to a number of exotic creatures, including the Twi'lek Jedi Master Yoda.\\n\\nDespite its beauty and history, Foobar is not without its challenges. The planet is located in the Outer Rim Territories, which are known for their dangerous conditions. The planet is also home to a number of criminal organizations, and it is a frequent target for\",\n",
      "                    \"completionReason\": \"LENGTH\"\n",
      "                }\n",
      "            ]\n",
      "        },\n",
      "        \"outputTokenCount\": 512\n",
      "    }\n",
      "}\n",
      "-------------------------\n",
      "\n"
     ]
    }
   ],
   "source": [
    "cloudwatch.print_recent_logs(log_group_name)"
   ]
  },
  {
   "cell_type": "markdown",
   "id": "1118acfb",
   "metadata": {},
   "source": [
    "To review the logs within the AWS console, please use the following link to reference the steps outlined in the video:"
   ]
  },
  {
   "cell_type": "code",
   "execution_count": 11,
   "id": "2cf443d2",
   "metadata": {
    "height": 47
   },
   "outputs": [],
   "source": [
    "from IPython.display import HTML\n",
    "aws_url = os.environ['AWS_CONSOLE_URL']"
   ]
  },
  {
   "cell_type": "code",
   "execution_count": 12,
   "id": "0b7c904c",
   "metadata": {
    "height": 47
   },
   "outputs": [
    {
     "data": {
      "text/html": [
       "<a href=\"https://signin.aws.amazon.com/federation?Action=login&SigninToken=5ODxLsEaK9AopA-MHeIzavpsZnCNJxG3sldykntP4U7b-s_jo1-W01c_MUF5p2p2WaN2RZ4p9HladnKHLueR25J8__aztEqjSMzWspIFvQvNURpvvtJBHRtVlvUfK05poj0MJZZB00FOV8S8d_SUXpY151et8ZYReeLa_ENt5W5HtB7UwKzD-pjhg5N91QFq2P0E0brftKK1sGTXWCEzQN3QkdZnxDZ_ptoiiXONIsc89mtrjFueszLNqBa52ZftetcIAlmgt1g_KEVeNKs4W80bcaeWA_D6dDvRgpBRM4in7fCptPbWwehgzPY6x2SniwCoNKpUgRg_pWPugTCRxC5S159ISi3WO_iRGrONOM13_jvTPwhVZXF9vXIWzNFZEg473B0zrPoHShYbwV_gssh-1anTEqPkT_nH2O8Ejzw5gyyaorAFq7mx4l4thOcjQJVgp6-A0y2kwl8p8JXw73irpxCgK6b43tVgAC2_axQwbkb-zyUyCSZxwqd1UySnTx3Y3PlXjH1JIveP398TL2UORDHBU3MnLkCyKmMVdZkdEYdLSfiCu8hkFd7khXWiO1Eb2EpVUDCD7tAUiBK7PEsr6auyhzsfkPr6QCRvKJN4IFIAQdTUfqAY58OeJY8-UAYNvcir6PmWxkLr4LPi2jlaURynUIONfY995BR85rkhqCh1T8KcmQsb_8RYEcV5qU3gX0EWPfz1F3ncBc7xS8EzCHW8lXcgD8abTMw900p-9l3SM9U1FjtY3EAs9_Z4_QGPdkPzTHGNL3Ra78AhSEMjljGgwhnCoQ3d4fTMmASD-g8IrlOLLPPTSoeedj-FoWLKILY1lwnmJk5E_tfHbvfYxJjX6ecTzeISxN9L-sdpzufubq41pJ2_1e_7Kna8DqF_3AJ5bvz28Gz_VqQZAtGTYOx1knP8Qfc7NVGfqumZop1gTxv64iqnI4NXLSOGx32doWgrAugavN9_Z0-2JaLUG8TKIoJ3N8RudFNYeVL6L8WokjoJClxKypzeUL2nMcz9_vW_eHRhsykx1CvopauPC61vYf4riKToQdsA2LEBo-JzzunHyvb3q_BPs3f-hvaYiZFjc8xxQ2GmFhsELQbApeLM26bo7WUmUFR_Ule6nkgl05dWL7Eb7Ti2XDfKRaloyHWixKTBBx6yNEu-EZ-nHqQ0z0YCyRfKap4gQYsgnakURxjNoZiGw8oAinFkrIHKxGtVWcuSCCNCFvMEhCQFGSOIf0SweTgmAbCOoOno7bX4ifMTSaaf1QADJNYTA2egH9orJ0OA6P2z0iVnEqqij3eFnYFYwHErhNzZk_Q17Qep02inxVTGyJ7vDPq4H_c65-5bRBmND2sE9xgoPPFxOmSHq94PHvgZnD9kHKEhfPRuCmJDILCjdPS2KMrS-TtyWXrz_tXwib0bAxVpFwMWht7kodCy5Et-tgJlNJmxFJVSjIEvPDDs0lmVSCx-XzQgsH5B0aZXlTJar5IJNwmb_rvOgI4x9SyarEcHpjVnTceu63F7ia_InXyXVA&Issuer=https%3A%2F%2Fapi.vocareum.com&Destination=https%3A%2F%2Fconsole.aws.amazon.com%2Fconsole%2Fhome%3Fregion%3Dus-west-2\" target=\"_blank\">GO TO AWS CONSOLE</a>"
      ],
      "text/plain": [
       "<IPython.core.display.HTML object>"
      ]
     },
     "execution_count": 12,
     "metadata": {},
     "output_type": "execute_result"
    }
   ],
   "source": [
    "HTML(f'<a href=\"{aws_url}\" target=\"_blank\">GO TO AWS CONSOLE</a>')\n"
   ]
  }
 ],
 "metadata": {
  "kernelspec": {
   "display_name": "Python 3 (ipykernel)",
   "language": "python",
   "name": "python3"
  },
  "language_info": {
   "codemirror_mode": {
    "name": "ipython",
    "version": 3
   },
   "file_extension": ".py",
   "mimetype": "text/x-python",
   "name": "python",
   "nbconvert_exporter": "python",
   "pygments_lexer": "ipython3",
   "version": "3.11.9"
  }
 },
 "nbformat": 4,
 "nbformat_minor": 5
}
